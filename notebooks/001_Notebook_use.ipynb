{
 "cells": [
  {
   "cell_type": "markdown",
   "metadata": {},
   "source": [
    "<img alt='UCL' src=\"images/ucl_logo.png\" align='center'>\n",
    "\n",
    "\n",
    "[<img src=\"images/noun_post_2109127.svg\" width=\"50\" align='right'>](005_Help.ipynb)\n",
    "\n"
   ]
  },
  {
   "cell_type": "markdown",
   "metadata": {},
   "source": [
    "\n",
    "# 001 Use of Jupyter notebooks\n",
    "\n",
    "This is a jupyter notebook designed to let you get used to notebooks, and to test your python and notebooks installation.\n",
    "\n",
    "You can find much information on using notebooks on the [web](https://jupyter.org/), so you might start by exploring some of that.\n",
    "\n",
    "You should do the tasks in this notebook before the first class. We need to assume at that class that you have the basic familiarity with notebooks you will gain here.\n",
    "\n",
    "## Introduction\n",
    "\n",
    "### Prerequisites\n",
    "\n",
    "There are no prerequisites for this notebook.\n",
    "\n",
    "Note that you can 'run' the code in a code block using the `>| Run`  widget (above) or hitting the keys ('typing') `SHIFT` and `RETURN` at the same time. \n",
    "\n",
    "### Timing\n",
    "\n",
    "The session should take around 30 minutes.\n",
    "    \n",
    "\n",
    "## Some resources\n",
    "\n",
    "There is a useful [cheatsheet](https://www.anaconda.com/wp-content/uploads/2019/03/11-2018-JupyterLab-Notebook-Cheatsheet.pdf).\n",
    "\n",
    "\n",
    "## How we will be using notebooks\n",
    "\n",
    "We will be using notebooks to present coursenotes and view and run exercises. We will mainly be doing that using the [anaconda distribution of python](https://anaconda.org/anaconda/python) (You can refer to [previous section](/notebooks/geog0111-core/notebooks/000_Running_options.ipynb) for details). This should already be installed for you if you are viewing this, but we will runs some tests below just to make sure.\n",
    "\n",
    "The notebook is made up of a series of [cells](https://jupyter-notebook.readthedocs.io/en/stable/notebook.html#:~:text=A%20cell%20is%20a%20multiline,markdown%20cells%2C%20and%20raw%20cells). Some cells, such as the one this is written in, are 'text' cells, where we format the text in a language called [markdown](https://jupyter-notebook.readthedocs.io/en/stable/examples/Notebook/Working%20With%20Markdown%20Cells.html)."
   ]
  },
  {
   "cell_type": "markdown",
   "metadata": {},
   "source": [
    "Take a few minutes to explore the notebook menu, and note how to do things like:\n",
    "\n",
    "* save the notebook\n",
    "* save the notebook with a checkpoint: useful for exercises, as you can go back to previous versions!\n",
    "* make a copy of the notebook and rename it\n",
    "* download the notebook as a pdf (this will be useful for future homeworks and courseworks!)\n",
    "* restart the kernel (the 'engine' running this notebook)\n",
    "* restart the kernel and clear output"
   ]
  },
  {
   "cell_type": "markdown",
   "metadata": {
    "solution2": "hidden",
    "solution2_first": true
   },
   "source": [
    "### Exercise 001.1: add a cell\n",
    "\n",
    "We can add new cells to this document via the `Insert -> Insert Cell Below` menu in the menu bar at the top of this document.\n",
    "\n",
    "Notice that you can **double click** on a cell to edit its contents.\n",
    "\n",
    "Add a cell now, below, and use the `Cell -> Cell Type` menu to make this cell type `markdown`. Add some text in there ... lyrics from your favourite song, whatever comes into your head ...\n"
   ]
  },
  {
   "cell_type": "markdown",
   "metadata": {
    "solution2": "hidden"
   },
   "source": [
    "Hello world is traditionally the first coding you do."
   ]
  },
  {
   "cell_type": "markdown",
   "metadata": {},
   "source": [
    "### Exercise 001.2: add some cell formatting\n"
   ]
  },
  {
   "cell_type": "markdown",
   "metadata": {
    "solution2": "hidden",
    "solution2_first": true
   },
   "source": [
    "\n",
    "Add another cell now, below, and use the Cell -> Cell Type menu to make this cell type markdown. \n",
    "\n",
    "Read up on the [features of markdown](https://github.com/adam-p/markdown-here/wiki/Markdown-Cheatsheet), and this time, include one or more of the following in your cell:\n",
    "\n",
    "* a heading\n",
    "* a sub-heading\n",
    "* and equation\n",
    "* links to a web page\n",
    "* a table\n",
    "* an image\n",
    "* some html"
   ]
  },
  {
   "cell_type": "markdown",
   "metadata": {
    "solution2": "hidden"
   },
   "source": [
    "# Main Heading\n",
    "\n",
    "## equation\n",
    "\n",
    "Equations \n",
    "\n",
    "\\begin{equation*}\n",
    "\\left( \\sum_{k=1}^n a_k b_k \\right)^2 \\leq \\left( \\sum_{k=1}^n a_k^2 \\right) \\left( \\sum_{k=1}^n b_k^2 \\right)\n",
    "\\end{equation*}\n",
    "\n",
    "### link\n",
    "\n",
    "[click me and I will pop up a google search window](https://www.google.com)\n",
    "\n",
    "### table\n",
    "\n",
    "| a | b | c | d | e |\n",
    "|:-:|:-:|:-:|:-:|-|\n",
    "| 🙈 | 💥 | 🦧 | 🐇 | 🐪 |\n",
    "| f | g | h | i | j |\n",
    "| 🙈 | 💥 | 🦧 | 🐇 | 🐪 |\n",
    "\n",
    "### image\n",
    "\n",
    "![ucl logo](images/ucl_logo.png)\n",
    "\n",
    "\n",
    "### html\n",
    "\n",
    "<html>\n",
    "\n",
    "<h2>HTML</h2>\n",
    "\n",
    "<p>Hey, I'm a paragraph!</p>\n",
    "\n",
    "\n",
    "</body>\n",
    "</html>"
   ]
  },
  {
   "cell_type": "markdown",
   "metadata": {},
   "source": [
    "## Coding\n",
    "\n",
    "Next, let's try a code cell below and do our first python coding. You should notice that it indicates this in the cell type box on the menu."
   ]
  },
  {
   "cell_type": "code",
   "execution_count": null,
   "metadata": {},
   "outputs": [],
   "source": [
    "print('hello world')"
   ]
  },
  {
   "cell_type": "markdown",
   "metadata": {},
   "source": [
    "Now we will use the method `print()` to print out a `string` (a list of characters) called `first_string`.\n",
    "\n",
    "We *execute* ('run') the code in the cell, either with the `>| Run` button above, or by pressing the `SHIFT RETURN` keys at the same time. "
   ]
  },
  {
   "cell_type": "code",
   "execution_count": null,
   "metadata": {},
   "outputs": [],
   "source": [
    "# comment with a hash\n",
    "\n",
    "# set a string variable\n",
    "first_string = \"hello world\"\n",
    "\n",
    "# print this\n",
    "print(first_string)"
   ]
  },
  {
   "cell_type": "markdown",
   "metadata": {
    "solution2": "hidden",
    "solution2_first": true
   },
   "source": [
    "The type of cell we use is `Code` (rather than `Markdown` above).\n",
    "\n",
    "Remember that we *execute* ('run') the code in the cell, either with the `>| Run` button above, or by pressing the `SHIFT RETURN` keys at the same time. \n",
    "\n",
    "Try that out, running the code cell above.\n",
    "\n",
    "### Exercise 001.3\n",
    "\n",
    "Now:\n",
    "\n",
    "* create a code cell below\n",
    "* create a string called `second_string` with the text `hello again`\n",
    "* call the `print()` method with this as an [argument](https://en.wikipedia.org/wiki/Parameter_(computer_programming))\n",
    "* run the cell "
   ]
  },
  {
   "cell_type": "code",
   "execution_count": 2,
   "metadata": {
    "solution2": "hidden"
   },
   "outputs": [
    {
     "name": "stdout",
     "output_type": "stream",
     "text": [
      "hello again\n"
     ]
    }
   ],
   "source": [
    "# create a code cell below\n",
    "# create a string called `second_string` with the text `hello again`\n",
    "\n",
    "second_string = 'hello again'\n",
    "\n",
    "# call the `print()` method with this as an argument\n",
    "print(second_string)\n",
    "\n",
    "# run the cell "
   ]
  },
  {
   "cell_type": "markdown",
   "metadata": {
    "solution2": "hidden",
    "solution2_first": true
   },
   "source": [
    "### Exercise 001.4\n",
    "\n",
    "* create a code cell below\n",
    "* print the values of `first_string` and `second_string`  that we created above. \n",
    "* what does that tell you about information we create in one cell and try to use in another?"
   ]
  },
  {
   "cell_type": "code",
   "execution_count": 3,
   "metadata": {
    "solution2": "hidden"
   },
   "outputs": [
    {
     "name": "stdout",
     "output_type": "stream",
     "text": [
      "hello world\n",
      "hello again\n",
      "hello world hello again\n"
     ]
    }
   ],
   "source": [
    "# create a code cell below\n",
    "# print the values of first_string and second_string that we created above.\n",
    "\n",
    "print(first_string)\n",
    "print(second_string)\n",
    "\n",
    "# or\n",
    "\n",
    "print(first_string,second_string)\n",
    "\n",
    "# what does that tell you about information we create in one cell and try to use in another?\n",
    "# \n",
    "# It tells us that the informnation is persistent, i.e. once we have created the \n",
    "# variables, we can use them in running any cells later."
   ]
  },
  {
   "cell_type": "markdown",
   "metadata": {
    "solution2": "hidden",
    "solution2_first": true
   },
   "source": [
    "### Exercise 001.5\n",
    "\n",
    "* create a code cell below\n",
    "* try to print a variable `third_string` (that you haven't yet created)\n",
    "* run the cell\n",
    "* what does this tell you about trying to print variables we haven't created?"
   ]
  },
  {
   "cell_type": "code",
   "execution_count": 4,
   "metadata": {
    "solution2": "hidden"
   },
   "outputs": [
    {
     "ename": "NameError",
     "evalue": "name 'third_string' is not defined",
     "output_type": "error",
     "traceback": [
      "\u001b[0;31m---------------------------------------------------------------------------\u001b[0m",
      "\u001b[0;31mNameError\u001b[0m                                 Traceback (most recent call last)",
      "\u001b[0;32m<ipython-input-4-69e797fa12c1>\u001b[0m in \u001b[0;36m<module>\u001b[0;34m\u001b[0m\n\u001b[1;32m      2\u001b[0m \u001b[0;34m\u001b[0m\u001b[0m\n\u001b[1;32m      3\u001b[0m \u001b[0;31m# try to print a variable `third_string` that you haven't yet created\u001b[0m\u001b[0;34m\u001b[0m\u001b[0;34m\u001b[0m\u001b[0;34m\u001b[0m\u001b[0m\n\u001b[0;32m----> 4\u001b[0;31m \u001b[0mprint\u001b[0m\u001b[0;34m(\u001b[0m\u001b[0mthird_string\u001b[0m\u001b[0;34m)\u001b[0m\u001b[0;34m\u001b[0m\u001b[0;34m\u001b[0m\u001b[0m\n\u001b[0m\u001b[1;32m      5\u001b[0m \u001b[0;34m\u001b[0m\u001b[0m\n\u001b[1;32m      6\u001b[0m \u001b[0;31m# The first time we run it\u001b[0m\u001b[0;34m\u001b[0m\u001b[0;34m\u001b[0m\u001b[0;34m\u001b[0m\u001b[0m\n",
      "\u001b[0;31mNameError\u001b[0m: name 'third_string' is not defined"
     ]
    }
   ],
   "source": [
    "# create a code cell below\n",
    "\n",
    "# try to print a variable `third_string` that you haven't yet created\n",
    "print(third_string)\n",
    "\n",
    "# The first time we run it\n",
    "# it comes up with an error\n",
    "# NameError: name 'third_string' is not defined\n",
    "# telling us that we have tried to access a variable name that\n",
    "# we have not yet defined. Be aware of this type of error.\n",
    "\n",
    "# what does that tell you about trying to print variables we haven't created?\n",
    "#\n",
    "# if we try to use a variable before we create it, the code will fail and throw\n",
    "# an error. This is useful information: learn to read the errors and understand what\n",
    "# it is telling you. "
   ]
  },
  {
   "cell_type": "markdown",
   "metadata": {
    "solution2": "hidden",
    "solution2_first": true
   },
   "source": [
    "If no error message was given from the above exercise, that means you have ran (defined) `third_string` already from the following cell (Exercise 001.6). In case if you need to refresh the outputs, you can *restart* this notebook by clicking `Kernel -> Restart`.\n",
    "### Exercise 001.6\n",
    "\n",
    "* create a code cell below\n",
    "* *now* create a string called `third_string` with the text `hello once more`\n",
    "* run the cell, then the **cell above**\n",
    "* what does that tell you about information we create in one cell and try to use in another above?"
   ]
  },
  {
   "cell_type": "code",
   "execution_count": null,
   "metadata": {
    "solution2": "hidden"
   },
   "outputs": [],
   "source": [
    "# create a code cell below\n",
    "# now create a string called third_string with the text hello once more\n",
    "third_string = 'hello once more'\n",
    "\n",
    "# run the cell above\n",
    "# same as ...\n",
    "print(third_string)\n",
    "\n",
    "# what does that tell you about information we create in one cell and \n",
    "# try to use in another above?\n",
    "#\n",
    "# we can run cells in any order. Once we had created third_string, the \n",
    "# previous exercise print(third_string) executed as we expected.\n",
    "# The *Danger* is that the next time we run this notebook in cell order\n",
    "# the cell above will fail again. Learn from the mistakes we make.\n",
    "# Remember what this type of error can mean."
   ]
  },
  {
   "cell_type": "markdown",
   "metadata": {},
   "source": [
    "# Summary\n",
    "\n",
    "This notebook has introduced you to using jupyter notebooks.\n",
    "\n",
    "To make sure you understand it all, it is worthwhile restarting the kernel with cleared output (`Kernel -> Restart & Clear Output`() and running it all again. Once you are happy wiuth that, you might try (`Kernel -> Restart & Run All`().\n",
    "\n",
    "We have explored the notebook menu, and seen how to run cells, create new cells, and change the cell type to something appropriate (`Markdown` or `Code` here). \n",
    "\n",
    "We have seen how to set a string variable and print the value of that variable. \n",
    "\n",
    "We have noticed that variables are persistent between cells, so if we define a variable in one cell, we can use it *later on*. These are the so-called **global variables**, and we will learn about **local variables** in the future. Additionally, we have seen that if we try to access a variable before we have declared it, it will throw a `NameError`, telling us this. Having seen this type of error once, and understanding why it occurred should prepare us for the next time we see one similar.\n",
    "\n",
    "We have seen one of the *dangers* of a notebook: it allows you to go back and forth running cells. This can lead to confusion, as the next time you run the same notebook in cell order, you may not get the same result! It is one of the most common mistakes for a beginner to make, so be aware of this, and try to always run the cells in the same order. **You can test for this type of error by restarting the kernel, clearing the output, and running all cells.**\n",
    "\n",
    "Congratulations, we have written our very first `python` codes!"
   ]
  },
  {
   "cell_type": "markdown",
   "metadata": {},
   "source": [
    "\n",
    "[<img src=\"images/noun_post_2109127.svg\" width=\"50\" align='right'>](005_Help.ipynb)\n"
   ]
  }
 ],
 "metadata": {
  "gist": {
   "data": {
    "description": "Chapter0_help.ipynb",
    "public": true
   },
   "id": ""
  },
  "hide_input": false,
  "kernelspec": {
   "display_name": "Python 3",
   "language": "python",
   "name": "python3"
  },
  "language_info": {
   "codemirror_mode": {
    "name": "ipython",
    "version": 3
   },
   "file_extension": ".py",
   "mimetype": "text/x-python",
   "name": "python",
   "nbconvert_exporter": "python",
   "pygments_lexer": "ipython3",
   "version": "3.8.5"
  },
  "latex_envs": {
   "LaTeX_envs_menu_present": true,
   "autocomplete": true,
   "bibliofile": "biblio.bib",
   "cite_by": "apalike",
   "current_citInitial": 1,
   "eqLabelWithNumbers": true,
   "eqNumInitial": 1,
   "hotkeys": {
    "equation": "Ctrl-E",
    "itemize": "Ctrl-I"
   },
   "labels_anchors": false,
   "latex_user_defs": false,
   "report_style_numbering": false,
   "user_envs_cfg": false
  },
  "toc": {
   "base_numbering": "1.1",
   "nav_menu": {},
   "number_sections": false,
   "sideBar": true,
   "skip_h1_title": false,
   "title_cell": "Table of Contents",
   "title_sidebar": "Contents",
   "toc_cell": false,
   "toc_position": {
    "height": "calc(100% - 180px)",
    "left": "10px",
    "top": "150px",
    "width": "207px"
   },
   "toc_section_display": true,
   "toc_window_display": false
  },
  "varInspector": {
   "cols": {
    "lenName": 16,
    "lenType": 16,
    "lenVar": 40
   },
   "kernels_config": {
    "python": {
     "delete_cmd_postfix": "",
     "delete_cmd_prefix": "del ",
     "library": "var_list.py",
     "varRefreshCmd": "print(var_dic_list())"
    },
    "r": {
     "delete_cmd_postfix": ") ",
     "delete_cmd_prefix": "rm(",
     "library": "var_list.r",
     "varRefreshCmd": "cat(var_dic_list()) "
    }
   },
   "position": {
    "height": "247px",
    "left": "696px",
    "right": "20px",
    "top": "120px",
    "width": "335px"
   },
   "types_to_exclude": [
    "module",
    "function",
    "builtin_function_or_method",
    "instance",
    "_Feature"
   ],
   "window_display": false
  }
 },
 "nbformat": 4,
 "nbformat_minor": 1
}
